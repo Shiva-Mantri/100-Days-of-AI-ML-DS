{
  "nbformat": 4,
  "nbformat_minor": 0,
  "metadata": {
    "colab": {
      "name": "20200718_CustomDataTransformation.ipynb",
      "provenance": [],
      "authorship_tag": "ABX9TyOStu+VolC6+2qbUGW5Mo0G",
      "include_colab_link": true
    },
    "kernelspec": {
      "name": "python3",
      "display_name": "Python 3"
    }
  },
  "cells": [
    {
      "cell_type": "markdown",
      "metadata": {
        "id": "view-in-github",
        "colab_type": "text"
      },
      "source": [
        "<a href=\"https://colab.research.google.com/github/shivamantrik23/100-Days-of-AI-ML-DS-May-the-4th/blob/master/HandsOn/20200718_CustomDataTransformation.ipynb\" target=\"_parent\"><img src=\"https://colab.research.google.com/assets/colab-badge.svg\" alt=\"Open In Colab\"/></a>"
      ]
    },
    {
      "cell_type": "markdown",
      "metadata": {
        "id": "i8a3QW2nDtK-",
        "colab_type": "text"
      },
      "source": [
        "**CUSTOM DATA TRANSFORMATION USING SKITLEARN**\n",
        "- Source: https://machinelearningmastery.com/create-custom-data-transforms-for-scikit-learn/"
      ]
    },
    {
      "cell_type": "code",
      "metadata": {
        "id": "IDLJbmfMEHFG",
        "colab_type": "code",
        "colab": {}
      },
      "source": [
        "# import libraries\n",
        "from pandas import read_csv"
      ],
      "execution_count": 1,
      "outputs": []
    },
    {
      "cell_type": "code",
      "metadata": {
        "id": "w62gOk7dEx6O",
        "colab_type": "code",
        "colab": {}
      },
      "source": [
        ""
      ],
      "execution_count": null,
      "outputs": []
    }
  ]
}